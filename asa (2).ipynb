{
 "cells": [
  {
   "cell_type": "code",
   "execution_count": 1,
   "id": "9db451d6",
   "metadata": {},
   "outputs": [
    {
     "name": "stdout",
     "output_type": "stream",
     "text": [
      "Defaulting to user installation because normal site-packages is not writeable\n",
      "Requirement already satisfied: SpeechRecognition in c:\\users\\samru\\appdata\\roaming\\python\\python39\\site-packages (3.10.1)\n",
      "Requirement already satisfied: requests>=2.26.0 in e:\\anaconda\\lib\\site-packages (from SpeechRecognition) (2.27.1)\n",
      "Requirement already satisfied: typing-extensions in e:\\anaconda\\lib\\site-packages (from SpeechRecognition) (4.1.1)\n",
      "Requirement already satisfied: charset-normalizer~=2.0.0 in e:\\anaconda\\lib\\site-packages (from requests>=2.26.0->SpeechRecognition) (2.0.4)\n",
      "Requirement already satisfied: idna<4,>=2.5 in e:\\anaconda\\lib\\site-packages (from requests>=2.26.0->SpeechRecognition) (3.3)\n",
      "Requirement already satisfied: urllib3<1.27,>=1.21.1 in e:\\anaconda\\lib\\site-packages (from requests>=2.26.0->SpeechRecognition) (1.26.9)\n",
      "Requirement already satisfied: certifi>=2017.4.17 in e:\\anaconda\\lib\\site-packages (from requests>=2.26.0->SpeechRecognition) (2021.10.8)\n"
     ]
    }
   ],
   "source": [
    "!pip install SpeechRecognition\n",
    "\n"
   ]
  },
  {
   "cell_type": "code",
   "execution_count": 2,
   "id": "787202de",
   "metadata": {},
   "outputs": [],
   "source": [
    "import speech_recognition as sr\n",
    "\n",
    "import pandas as pd\n",
    "import numpy as np\n",
    "import matplotlib.pyplot as plt\n",
    "import nltk\n",
    "import soundfile as sf\n",
    "from nltk.stem.wordnet import WordNetLemmatizer\n",
    "from nltk.sentiment.vader import SentimentIntensityAnalyzer\n"
   ]
  },
  {
   "cell_type": "code",
   "execution_count": 41,
   "id": "bb6837c5",
   "metadata": {},
   "outputs": [
    {
     "name": "stdout",
     "output_type": "stream",
     "text": [
      "808\n",
      "81\n"
     ]
    }
   ],
   "source": [
    "audio = r\"E:\\Learn-.wav\"\n",
    "file = sf.SoundFile(audio) \n",
    "video_length = int(len(file) / file.samplerate) + (len(file)%file.samplerate > 0)  \n",
    "print(video_length)\n",
    "\n",
    "loop_number = int(video_length/10) + (video_length% 10 >0) \n",
    "print(loop_number)\n"
   ]
  },
  {
   "cell_type": "code",
   "execution_count": 42,
   "id": "12ab6e6f",
   "metadata": {},
   "outputs": [],
   "source": [
    "\n",
    "def transcribe(loops, starting_increment):\n",
    "    audio_text = [] \n",
    "    increment = starting_increment \n",
    "    for i in range(loops):\n",
    "        r = sr.Recognizer()\n",
    "        with sr.AudioFile(file) as source:\n",
    "            audio = r.record(source, offset = (increment) , duration= 10)\n",
    "        string = r.recognize_google(audio)\n",
    "        audio_text.append(string)\n",
    "        increment += 10\n",
    "    return audio_text"
   ]
  },
  {
   "cell_type": "code",
   "execution_count": 43,
   "id": "0b34406f",
   "metadata": {
    "scrolled": true
   },
   "outputs": [],
   "source": [
    "audio_text = transcribe(loop_number, 0)"
   ]
  },
  {
   "cell_type": "code",
   "execution_count": 44,
   "id": "b64a48ea",
   "metadata": {
    "scrolled": true
   },
   "outputs": [
    {
     "name": "stdout",
     "output_type": "stream",
     "text": [
      "welcome to my English study channel can you learn new words to enhance your vocabulary and speaking skills see the word hear the word say the word practice often to remember all words better the more you practice the better you will become welcome English lesson and feelings and emotions today we will learn 30 new words to describe how we feel and understand others better even if your English will make it super easy with lots of examples and fun exercises let's get started and learn some awesome new words feelings and emotions part 1 happy happy you happy when I spend time with my happy ecstatic ecstatic I feel like static when I am extremely happy ecstatic amazed amazed I feel amazed when I see something really impressive excited excited I feel excited when I am looking forward to something excited surprised Sur I feel surprised when something unexpected happens surprised Sharks Sharks I feel shocked something bad happens suddenly shocked sad I feel sad when something makes me unhappy sad miserable miserable I feel miserable When Everything feels miserable displeased displaced I feel this pleased when I am not satisfied with something displaced annoyed annoyed I feel annoyed when things don't go as planned angry angry I feel angry when someone does something that's not fair angry Furious I feel Furious when I am extremely angry Furious disgusted disgusted I feel disgusted fear smell something unpleasant disaster embarrassed embarrassed I feel embarrassed when I make a mistake embarrassed ashamed I feel ashamed when I have done something wrong ashamed come come I feel calm when I am in a quiet and peaceful place calm nervous nervous I feel nervous when I have to speak in public worried worried I feel worried when I think about something that can go wrong worried scared scared I feel scared when I watch a horror movie scared proud proud I feel proud when I something new proud smog smoke I feel smug when I think I am better than others smoke Chai Chai I feel shy when I talk to strangers shy word forward I feel bored when I have nothing to do forward confused confused I feel confused when things don't make sense to me spacious suspicious spacious when something doesn't seem right suspicious helpful helpful I feel hopeful when I believe that good things can happen helpful disappointed disappointed I feel disappointed lets me down disappointed stressed stressed I feel stressed when I have too much to do stressed relaxed I feel relaxed when I listen to coming music relaxed grateful grateful I feel grateful when I have good health and happiness grateful part 2 in this part we show the picture and you say the word now that you learn new words related to feelings and emotions I hope you feel happy ready to put your knowledge to the test ok let's get started happy happy ecstatic ecstatic amazed amazed sided excited surprised surprised sharks sad sad miserable miserable please please please annoyed annoyed angry angry furious furious disgusted disgusted em embarrassed ashamed ashamed come come nervous nervous worried worried scared scared proud proud smart smart shy shy shy powered confused confused spacious helpful helpful disappointed disappointed stressed stressed relaxed relaxed grateful grateful Bravo super we hope you enjoyed learning these new English words please watch other videos on our channel and continue building your vocabulary recommend watching this video every 5 days until you have mastered all the words we've also created for your short video featuring all the words from this episode to help you professor memory please check it out in our short section if you like this video please give us the Thumbs Up and subscribe to our channel for more English language learning see you next time\n"
     ]
    }
   ],
   "source": [
    "text = \" \".join(audio_text)\n",
    "print(text)"
   ]
  },
  {
   "cell_type": "code",
   "execution_count": 52,
   "id": "77aede38",
   "metadata": {
    "scrolled": true
   },
   "outputs": [
    {
     "name": "stdout",
     "output_type": "stream",
     "text": [
      "['welcome', 'english', 'study', 'channel', 'learn', 'new', 'words', 'enhance', 'vocabulary', 'speaking', 'skills', 'see', 'word', 'hear', 'word', 'say', 'word', 'practice', 'often', 'remember', 'words', 'better', 'practice', 'better', 'become', 'welcome', 'english', 'lesson', 'feelings', 'emotions', 'today', 'learn', '30', 'new', 'words', 'describe', 'feel', 'understand', 'others', 'better', 'even', 'english', 'make', 'super', 'easy', 'lots', 'examples', 'fun', 'exercises', 'lets', 'get', 'started', 'learn', 'awesome', 'new', 'words', 'feelings', 'emotions', 'part', '1', 'happy', 'happy', 'happy', 'spend', 'time', 'happy', 'ecstatic', 'ecstatic', 'feel', 'like', 'static', 'extremely', 'happy', 'ecstatic', 'amazed', 'amazed', 'feel', 'amazed', 'see', 'something', 'really', 'impressive', 'excited', 'excited', 'feel', 'excited', 'looking', 'forward', 'something', 'excited', 'surprised', 'sur', 'feel', 'surprised', 'something', 'unexpected', 'happens', 'surprised', 'sharks', 'sharks', 'feel', 'shocked', 'something', 'bad', 'happens', 'suddenly', 'shocked', 'sad', 'feel', 'sad', 'something', 'makes', 'unhappy', 'sad', 'miserable', 'miserable', 'feel', 'miserable', 'everything', 'feels', 'miserable', 'displeased', 'displaced', 'feel', 'pleased', 'satisfied', 'something', 'displaced', 'annoyed', 'annoyed', 'feel', 'annoyed', 'things', 'dont', 'go', 'planned', 'angry', 'angry', 'feel', 'angry', 'someone', 'something', 'thats', 'fair', 'angry', 'furious', 'feel', 'furious', 'extremely', 'angry', 'furious', 'disgusted', 'disgusted', 'feel', 'disgusted', 'fear', 'smell', 'something', 'unpleasant', 'disaster', 'embarrassed', 'embarrassed', 'feel', 'embarrassed', 'make', 'mistake', 'embarrassed', 'ashamed', 'feel', 'ashamed', 'done', 'something', 'wrong', 'ashamed', 'come', 'come', 'feel', 'calm', 'quiet', 'peaceful', 'place', 'calm', 'nervous', 'nervous', 'feel', 'nervous', 'speak', 'public', 'worried', 'worried', 'feel', 'worried', 'think', 'something', 'go', 'wrong', 'worried', 'scared', 'scared', 'feel', 'scared', 'watch', 'horror', 'movie', 'scared', 'proud', 'proud', 'feel', 'proud', 'something', 'new', 'proud', 'smog', 'smoke', 'feel', 'smug', 'think', 'better', 'others', 'smoke', 'chai', 'chai', 'feel', 'shy', 'talk', 'strangers', 'shy', 'word', 'forward', 'feel', 'bored', 'nothing', 'forward', 'confused', 'confused', 'feel', 'confused', 'things', 'dont', 'make', 'sense', 'spacious', 'suspicious', 'spacious', 'something', 'doesnt', 'seem', 'right', 'suspicious', 'helpful', 'helpful', 'feel', 'hopeful', 'believe', 'good', 'things', 'happen', 'helpful', 'disappointed', 'disappointed', 'feel', 'disappointed', 'lets', 'disappointed', 'stressed', 'stressed', 'feel', 'stressed', 'much', 'stressed', 'relaxed', 'feel', 'relaxed', 'listen', 'coming', 'music', 'relaxed', 'grateful', 'grateful', 'feel', 'grateful', 'good', 'health', 'happiness', 'grateful', 'part', '2', 'part', 'show', 'picture', 'say', 'word', 'learn', 'new', 'words', 'related', 'feelings', 'emotions', 'hope', 'feel', 'happy', 'ready', 'put', 'knowledge', 'test', 'ok', 'lets', 'get', 'started', 'happy', 'happy', 'ecstatic', 'ecstatic', 'amazed', 'amazed', 'sided', 'excited', 'surprised', 'surprised', 'sharks', 'sad', 'sad', 'miserable', 'miserable', 'please', 'please', 'please', 'annoyed', 'annoyed', 'angry', 'angry', 'furious', 'furious', 'disgusted', 'disgusted', 'em', 'embarrassed', 'ashamed', 'ashamed', 'come', 'come', 'nervous', 'nervous', 'worried', 'worried', 'scared', 'scared', 'proud', 'proud', 'smart', 'smart', 'shy', 'shy', 'shy', 'powered', 'confused', 'confused', 'spacious', 'helpful', 'helpful', 'disappointed', 'disappointed', 'stressed', 'stressed', 'relaxed', 'relaxed', 'grateful', 'grateful', 'bravo', 'super', 'hope', 'enjoyed', 'learning', 'new', 'english', 'words', 'please', 'watch', 'videos', 'channel', 'continue', 'building', 'vocabulary', 'recommend', 'watching', 'video', 'every', '5', 'days', 'mastered', 'words', 'weve', 'also', 'created', 'short', 'video', 'featuring', 'words', 'episode', 'help', 'professor', 'memory', 'please', 'check', 'short', 'section', 'like', 'video', 'please', 'give', 'us', 'thumbs', 'subscribe', 'channel', 'english', 'language', 'learning', 'see', 'next', 'time']\n"
     ]
    }
   ],
   "source": [
    "import string\n",
    "from collections import Counter\n",
    "lower_case = text.lower()\n",
    "cleaned_text = lower_case.translate(str.maketrans('', '', string.punctuation))\n",
    "tokenised_words = cleaned_text.split()\n",
    "stop_words = [\"i\", \"me\", \"my\", \"myself\", \"we\", \"our\", \"ours\", \"ourselves\", \"you\", \"your\", \"yours\", \"yourself\",\n",
    "              \"yourselves\", \"he\", \"him\", \"his\", \"himself\", \"she\", \"her\", \"hers\", \"herself\", \"it\", \"its\", \"itself\",\n",
    "              \"they\", \"them\", \"their\", \"theirs\", \"themselves\", \"what\", \"which\", \"who\", \"whom\", \"this\", \"that\", \"these\",\n",
    "              \"those\", \"am\", \"is\", \"are\", \"was\", \"were\", \"be\", \"been\", \"being\", \"have\", \"has\", \"had\", \"having\", \"do\",\n",
    "              \"does\", \"did\", \"doing\", \"a\", \"an\", \"the\", \"and\", \"but\", \"if\", \"or\", \"because\", \"as\", \"until\", \"while\",\n",
    "              \"of\", \"at\", \"by\", \"for\", \"with\", \"about\", \"against\", \"between\", \"into\", \"through\", \"during\", \"before\",\n",
    "              \"after\", \"above\", \"below\", \"to\", \"from\", \"up\", \"down\", \"in\", \"out\", \"on\", \"off\", \"over\", \"under\", \"again\",\n",
    "              \"further\", \"then\", \"once\", \"here\", \"there\", \"when\", \"where\", \"why\", \"how\", \"all\", \"any\", \"both\", \"each\",\n",
    "              \"few\", \"more\", \"most\", \"other\", \"some\", \"such\", \"no\", \"nor\", \"not\", \"only\", \"own\", \"same\", \"so\", \"than\",\n",
    "              \"too\", \"very\", \"s\", \"t\", \"can\", \"will\", \"just\", \"don\", \"should\", \"now\"]\n",
    "\n",
    "final_words = []\n",
    "for word in tokenised_words:\n",
    "    if word not in stop_words:\n",
    "        final_words.append(word)\n",
    "\n",
    "print(final_words)\n"
   ]
  },
  {
   "cell_type": "code",
   "execution_count": null,
   "id": "445dfeeb",
   "metadata": {
    "scrolled": true
   },
   "outputs": [],
   "source": []
  },
  {
   "cell_type": "code",
   "execution_count": 54,
   "id": "c0f2b7ad",
   "metadata": {},
   "outputs": [
    {
     "name": "stdout",
     "output_type": "stream",
     "text": [
      "Positive Sentiment\n"
     ]
    }
   ],
   "source": [
    "def sentiment_analyse(sentiment_text):\n",
    "    score = SentimentIntensityAnalyzer().polarity_scores(sentiment_text)\n",
    "    if score['neg'] > score['pos']:\n",
    "        print(\"Negative Sentiment\")\n",
    "    elif score['neg'] < score['pos']:\n",
    "        print(\"Positive Sentiment\")\n",
    "    else:\n",
    "        print(\"Neutral Sentiment\")\n",
    "\n",
    "\n",
    "sentiment_analyse(cleaned_text)"
   ]
  },
  {
   "cell_type": "code",
   "execution_count": 66,
   "id": "c3d9dc1b",
   "metadata": {
    "scrolled": true
   },
   "outputs": [
    {
     "name": "stdout",
     "output_type": "stream",
     "text": [
      "{'neg': 0.283, 'neu': 0.418, 'pos': 0.299, 'compound': 0.9728}\n"
     ]
    },
    {
     "data": {
      "image/png": "[encoded data removed]",
      "text/plain": [
       "<Figure size 432x288 with 1 Axes>"
      ]
     },
     "metadata": {
      "needs_background": "light"
     },
     "output_type": "display_data"
    }
   ],
   "source": [
    "sid = SentimentIntensityAnalyzer()\n",
    "pos_word_list=[]\n",
    "neu_word_list=[]\n",
    "neg_word_list=[]\n",
    "print(sid.polarity_scores(cleaned_text))\n",
    "\n",
    "sentiment_scores = sid.polarity_scores(cleaned_text)\n",
    "pos_score = sentiment_scores['pos']\n",
    "neu_score = sentiment_scores['neu']\n",
    "neg_score = sentiment_scores['neg']\n",
    "categories = ['Positive', 'Neutral', 'Negative']\n",
    "scores = [pos_score, neu_score, neg_score]\n",
    "\n",
    "plt.bar(categories, scores, color=['green', 'gray', 'red'])\n",
    "plt.xlabel('Sentiment')\n",
    "plt.ylabel('Score')\n",
    "plt.title('Sentiment Scores')\n",
    "plt.show()"
   ]
  },
  {
   "cell_type": "code",
   "execution_count": 63,
   "id": "16642fa1",
   "metadata": {
    "scrolled": true
   },
   "outputs": [
    {
     "name": "stdout",
     "output_type": "stream",
     "text": [
      "['welcome', 'to', 'my', 'English', 'study', 'channel', 'can', 'you', 'learn', 'new', 'words', 'to', 'enhance', 'your', 'vocabulary', 'and', 'speaking', 'skills', 'see', 'the', 'word', 'hear', 'the', 'word', 'say', 'the', 'word', 'practice', 'often', 'to', 'remember', 'all', 'words', 'better', 'the', 'more', 'you', 'practice', 'the', 'better', 'you', 'will', 'become', 'welcome', 'English', 'lesson', 'and', 'feelings', 'and', 'emotions', 'today', 'we', 'will', 'learn', '30', 'new', 'words', 'to', 'describe', 'how', 'we', 'feel', 'and', 'understand', 'others', 'better', 'even', 'if', 'your', 'English', 'will', 'make', 'it', 'super', 'easy', 'with', 'lots', 'of', 'examples', 'and', 'fun', 'exercises', 'let', \"'s\", 'get', 'started', 'and', 'learn', 'some', 'awesome', 'new', 'words', 'feelings', 'and', 'emotions', 'part', '1', 'happy', 'happy', 'you', 'happy', 'when', 'I', 'spend', 'time', 'with', 'my', 'happy', 'ecstatic', 'ecstatic', 'I', 'feel', 'like', 'static', 'when', 'I', 'am', 'extremely', 'happy', 'ecstatic', 'amazed', 'amazed', 'I', 'feel', 'amazed', 'when', 'I', 'see', 'something', 'really', 'impressive', 'excited', 'excited', 'I', 'feel', 'excited', 'when', 'I', 'am', 'looking', 'forward', 'to', 'something', 'excited', 'surprised', 'Sur', 'I', 'feel', 'surprised', 'when', 'something', 'unexpected', 'happens', 'surprised', 'Sharks', 'Sharks', 'I', 'feel', 'shocked', 'something', 'bad', 'happens', 'suddenly', 'shocked', 'sad', 'I', 'feel', 'sad', 'when', 'something', 'makes', 'me', 'unhappy', 'sad', 'miserable', 'miserable', 'I', 'feel', 'miserable', 'When', 'Everything', 'feels', 'miserable', 'displeased', 'displaced', 'I', 'feel', 'this', 'pleased', 'when', 'I', 'am', 'not', 'satisfied', 'with', 'something', 'displaced', 'annoyed', 'annoyed', 'I', 'feel', 'annoyed', 'when', 'things', 'do', \"n't\", 'go', 'as', 'planned', 'angry', 'angry', 'I', 'feel', 'angry', 'when', 'someone', 'does', 'something', 'that', \"'s\", 'not', 'fair', 'angry', 'Furious', 'I', 'feel', 'Furious', 'when', 'I', 'am', 'extremely', 'angry', 'Furious', 'disgusted', 'disgusted', 'I', 'feel', 'disgusted', 'fear', 'smell', 'something', 'unpleasant', 'disaster', 'embarrassed', 'embarrassed', 'I', 'feel', 'embarrassed', 'when', 'I', 'make', 'a', 'mistake', 'embarrassed', 'ashamed', 'I', 'feel', 'ashamed', 'when', 'I', 'have', 'done', 'something', 'wrong', 'ashamed', 'come', 'come', 'I', 'feel', 'calm', 'when', 'I', 'am', 'in', 'a', 'quiet', 'and', 'peaceful', 'place', 'calm', 'nervous', 'nervous', 'I', 'feel', 'nervous', 'when', 'I', 'have', 'to', 'speak', 'in', 'public', 'worried', 'worried', 'I', 'feel', 'worried', 'when', 'I', 'think', 'about', 'something', 'that', 'can', 'go', 'wrong', 'worried', 'scared', 'scared', 'I', 'feel', 'scared', 'when', 'I', 'watch', 'a', 'horror', 'movie', 'scared', 'proud', 'proud', 'I', 'feel', 'proud', 'when', 'I', 'something', 'new', 'proud', 'smog', 'smoke', 'I', 'feel', 'smug', 'when', 'I', 'think', 'I', 'am', 'better', 'than', 'others', 'smoke', 'Chai', 'Chai', 'I', 'feel', 'shy', 'when', 'I', 'talk', 'to', 'strangers', 'shy', 'word', 'forward', 'I', 'feel', 'bored', 'when', 'I', 'have', 'nothing', 'to', 'do', 'forward', 'confused', 'confused', 'I', 'feel', 'confused', 'when', 'things', 'do', \"n't\", 'make', 'sense', 'to', 'me', 'spacious', 'suspicious', 'spacious', 'when', 'something', 'does', \"n't\", 'seem', 'right', 'suspicious', 'helpful', 'helpful', 'I', 'feel', 'hopeful', 'when', 'I', 'believe', 'that', 'good', 'things', 'can', 'happen', 'helpful', 'disappointed', 'disappointed', 'I', 'feel', 'disappointed', 'lets', 'me', 'down', 'disappointed', 'stressed', 'stressed', 'I', 'feel', 'stressed', 'when', 'I', 'have', 'too', 'much', 'to', 'do', 'stressed', 'relaxed', 'I', 'feel', 'relaxed', 'when', 'I', 'listen', 'to', 'coming', 'music', 'relaxed', 'grateful', 'grateful', 'I', 'feel', 'grateful', 'when', 'I', 'have', 'good', 'health', 'and', 'happiness', 'grateful', 'part', '2', 'in', 'this', 'part', 'we', 'show', 'the', 'picture', 'and', 'you', 'say', 'the', 'word', 'now', 'that', 'you', 'learn', 'new', 'words', 'related', 'to', 'feelings', 'and', 'emotions', 'I', 'hope', 'you', 'feel', 'happy', 'ready', 'to', 'put', 'your', 'knowledge', 'to', 'the', 'test', 'ok', 'let', \"'s\", 'get', 'started', 'happy', 'happy', 'ecstatic', 'ecstatic', 'amazed', 'amazed', 'sided', 'excited', 'surprised', 'surprised', 'sharks', 'sad', 'sad', 'miserable', 'miserable', 'please', 'please', 'please', 'annoyed', 'annoyed', 'angry', 'angry', 'furious', 'furious', 'disgusted', 'disgusted', 'em', 'embarrassed', 'ashamed', 'ashamed', 'come', 'come', 'nervous', 'nervous', 'worried', 'worried', 'scared', 'scared', 'proud', 'proud', 'smart', 'smart', 'shy', 'shy', 'shy', 'powered', 'confused', 'confused', 'spacious', 'helpful', 'helpful', 'disappointed', 'disappointed', 'stressed', 'stressed', 'relaxed', 'relaxed', 'grateful', 'grateful', 'Bravo', 'super', 'we', 'hope', 'you', 'enjoyed', 'learning', 'these', 'new', 'English', 'words', 'please', 'watch', 'other', 'videos', 'on', 'our', 'channel', 'and', 'continue', 'building', 'your', 'vocabulary', 'recommend', 'watching', 'this', 'video', 'every', '5', 'days', 'until', 'you', 'have', 'mastered', 'all', 'the', 'words', 'we', \"'ve\", 'also', 'created', 'for', 'your', 'short', 'video', 'featuring', 'all', 'the', 'words', 'from', 'this', 'episode', 'to', 'help', 'you', 'professor', 'memory', 'please', 'check', 'it', 'out', 'in', 'our', 'short', 'section', 'if', 'you', 'like', 'this', 'video', 'please', 'give', 'us', 'the', 'Thumbs', 'Up', 'and', 'subscribe', 'to', 'our', 'channel', 'for', 'more', 'English', 'language', 'learning', 'see', 'you', 'next', 'time']\n",
      "[\"welcome to my English study channel can you learn new words to enhance your vocabulary and speaking skills see the word hear the word say the word practice often to remember all words better the more you practice the better you will become welcome English lesson and feelings and emotions today we will learn 30 new words to describe how we feel and understand others better even if your English will make it super easy with lots of examples and fun exercises let's get started and learn some awesome new words feelings and emotions part 1 happy happy you happy when I spend time with my happy ecstatic ecstatic I feel like static when I am extremely happy ecstatic amazed amazed I feel amazed when I see something really impressive excited excited I feel excited when I am looking forward to something excited surprised Sur I feel surprised when something unexpected happens surprised Sharks Sharks I feel shocked something bad happens suddenly shocked sad I feel sad when something makes me unhappy sad miserable miserable I feel miserable When Everything feels miserable displeased displaced I feel this pleased when I am not satisfied with something displaced annoyed annoyed I feel annoyed when things don't go as planned angry angry I feel angry when someone does something that's not fair angry Furious I feel Furious when I am extremely angry Furious disgusted disgusted I feel disgusted fear smell something unpleasant disaster embarrassed embarrassed I feel embarrassed when I make a mistake embarrassed ashamed I feel ashamed when I have done something wrong ashamed come come I feel calm when I am in a quiet and peaceful place calm nervous nervous I feel nervous when I have to speak in public worried worried I feel worried when I think about something that can go wrong worried scared scared I feel scared when I watch a horror movie scared proud proud I feel proud when I something new proud smog smoke I feel smug when I think I am better than others smoke Chai Chai I feel shy when I talk to strangers shy word forward I feel bored when I have nothing to do forward confused confused I feel confused when things don't make sense to me spacious suspicious spacious when something doesn't seem right suspicious helpful helpful I feel hopeful when I believe that good things can happen helpful disappointed disappointed I feel disappointed lets me down disappointed stressed stressed I feel stressed when I have too much to do stressed relaxed I feel relaxed when I listen to coming music relaxed grateful grateful I feel grateful when I have good health and happiness grateful part 2 in this part we show the picture and you say the word now that you learn new words related to feelings and emotions I hope you feel happy ready to put your knowledge to the test ok let's get started happy happy ecstatic ecstatic amazed amazed sided excited surprised surprised sharks sad sad miserable miserable please please please annoyed annoyed angry angry furious furious disgusted disgusted em embarrassed ashamed ashamed come come nervous nervous worried worried scared scared proud proud smart smart shy shy shy powered confused confused spacious helpful helpful disappointed disappointed stressed stressed relaxed relaxed grateful grateful Bravo super we hope you enjoyed learning these new English words please watch other videos on our channel and continue building your vocabulary recommend watching this video every 5 days until you have mastered all the words we've also created for your short video featuring all the words from this episode to help you professor memory please check it out in our short section if you like this video please give us the Thumbs Up and subscribe to our channel for more English language learning see you next time\"]\n"
     ]
    }
   ],
   "source": [
    "from nltk.tokenize import sent_tokenize, word_tokenize\n",
    "from nltk.tokenize import PunktSentenceTokenizer\n",
    "sent_tokenizer = PunktSentenceTokenizer(text)\n",
    "sents = sent_tokenizer.tokenize(text)\n",
    " \n",
    "print(word_tokenize(text))\n",
    "print(sent_tokenize(text))\n"
   ]
  },
  {
   "cell_type": "code",
   "execution_count": null,
   "id": "5046ab8d",
   "metadata": {},
   "outputs": [],
   "source": []
  }
 ],
 "metadata": {
  "kernelspec": {
   "display_name": "Python 3 (ipykernel)",
   "language": "python",
   "name": "python3"
  },
  "language_info": {
   "codemirror_mode": {
    "name": "ipython",
    "version": 3
   },
   "file_extension": ".py",
   "mimetype": "text/x-python",
   "name": "python",
   "nbconvert_exporter": "python",
   "pygments_lexer": "ipython3",
   "version": "3.9.12"
  }
 },
 "nbformat": 4,
 "nbformat_minor": 5
}
